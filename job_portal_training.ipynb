{
 "cells": [
  {
   "cell_type": "code",
   "execution_count": 1,
   "metadata": {},
   "outputs": [],
   "source": [
    "import numpy as np\n",
    "import pandas as pd"
   ]
  },
  {
   "cell_type": "code",
   "execution_count": 4,
   "metadata": {},
   "outputs": [],
   "source": [
    "df = pd.read_csv(\"D:/NullClass/Real-Time Job Portal Analysis Tableau/job_descriptions.csv\")"
   ]
  },
  {
   "cell_type": "code",
   "execution_count": 5,
   "metadata": {},
   "outputs": [
    {
     "data": {
      "application/vnd.microsoft.datawrangler.viewer.v0+json": {
       "columns": [
        {
         "name": "index",
         "rawType": "int64",
         "type": "integer"
        },
        {
         "name": "Job Id",
         "rawType": "int64",
         "type": "integer"
        },
        {
         "name": "Experience",
         "rawType": "object",
         "type": "string"
        },
        {
         "name": "Qualifications",
         "rawType": "object",
         "type": "string"
        },
        {
         "name": "Salary Range",
         "rawType": "object",
         "type": "string"
        },
        {
         "name": "location",
         "rawType": "object",
         "type": "string"
        },
        {
         "name": "Country",
         "rawType": "object",
         "type": "string"
        },
        {
         "name": "latitude",
         "rawType": "float64",
         "type": "float"
        },
        {
         "name": "longitude",
         "rawType": "float64",
         "type": "float"
        },
        {
         "name": "Work Type",
         "rawType": "object",
         "type": "string"
        },
        {
         "name": "Company Size",
         "rawType": "int64",
         "type": "integer"
        },
        {
         "name": "Job Posting Date",
         "rawType": "object",
         "type": "string"
        },
        {
         "name": "Preference",
         "rawType": "object",
         "type": "string"
        },
        {
         "name": "Contact Person",
         "rawType": "object",
         "type": "string"
        },
        {
         "name": "Contact",
         "rawType": "object",
         "type": "string"
        },
        {
         "name": "Job Title",
         "rawType": "object",
         "type": "string"
        },
        {
         "name": "Role",
         "rawType": "object",
         "type": "string"
        },
        {
         "name": "Job Portal",
         "rawType": "object",
         "type": "string"
        },
        {
         "name": "Job Description",
         "rawType": "object",
         "type": "string"
        },
        {
         "name": "Benefits",
         "rawType": "object",
         "type": "string"
        },
        {
         "name": "skills",
         "rawType": "object",
         "type": "string"
        },
        {
         "name": "Responsibilities",
         "rawType": "object",
         "type": "string"
        },
        {
         "name": "Company",
         "rawType": "object",
         "type": "string"
        },
        {
         "name": "Company Profile",
         "rawType": "object",
         "type": "string"
        }
       ],
       "conversionMethod": "pd.DataFrame",
       "ref": "119af424-5689-40df-88bb-e3b38a899e8e",
       "rows": [
        [
         "0",
         "1089843540111562",
         "5 to 15 Years",
         "M.Tech",
         "$59K-$99K",
         "Douglas",
         "Isle of Man",
         "54.2361",
         "-4.5481",
         "Intern",
         "26801",
         "2022-04-24",
         "Female",
         "Brandon Cunningham",
         "001-381-930-7517x737",
         "Digital Marketing Specialist",
         "Social Media Manager",
         "Snagajob",
         "Social Media Managers oversee an organizations social media presence. They create and schedule content, engage with followers, and analyze social media metrics to drive brand awareness and engagement.",
         "{'Flexible Spending Accounts (FSAs), Relocation Assistance, Legal Assistance, Employee Recognition Programs, Financial Counseling'}",
         "Social media platforms (e.g., Facebook, Twitter, Instagram) Content creation and scheduling Social media analytics and insights Community engagement Paid social advertising",
         "Manage and grow social media accounts, create engaging content, and interact with the online community. Develop social media content calendars and strategies. Monitor social media trends and engagement metrics.",
         "Icahn Enterprises",
         "{\"Sector\":\"Diversified\",\"Industry\":\"Diversified Financials\",\"City\":\"Sunny Isles Beach\",\"State\":\"Florida\",\"Zip\":\"33160\",\"Website\":\"www.ielp.com\",\"Ticker\":\"IEP\",\"CEO\":\"David Willetts\"}"
        ],
        [
         "1",
         "398454096642776",
         "2 to 12 Years",
         "BCA",
         "$56K-$116K",
         "Ashgabat",
         "Turkmenistan",
         "38.9697",
         "59.5563",
         "Intern",
         "100340",
         "2022-12-19",
         "Female",
         "Francisco Larsen",
         "461-509-4216",
         "Web Developer",
         "Frontend Web Developer",
         "Idealist",
         "Frontend Web Developers design and implement user interfaces for websites, ensuring they are visually appealing and user-friendly. They collaborate with designers and backend developers to create seamless web experiences for users.",
         "{'Health Insurance, Retirement Plans, Paid Time Off (PTO), Flexible Work Arrangements, Employee Assistance Programs (EAP)'}",
         "HTML, CSS, JavaScript Frontend frameworks (e.g., React, Angular) User experience (UX)",
         "Design and code user interfaces for websites, ensuring a seamless and visually appealing user experience. Collaborate with UX designers to optimize user journeys. Ensure cross-browser compatibility and responsive design.",
         "PNC Financial Services Group",
         "{\"Sector\":\"Financial Services\",\"Industry\":\"Commercial Banks\",\"City\":\"Pittsburgh\",\"State\":\"Pennsylvania\",\"Zip\":\"15222\",\"Website\":\"www.pnc.com\",\"Ticker\":\"PNC\",\"CEO\":\"William S. Demchak\"}"
        ]
       ],
       "shape": {
        "columns": 23,
        "rows": 2
       }
      },
      "text/html": [
       "<div>\n",
       "<style scoped>\n",
       "    .dataframe tbody tr th:only-of-type {\n",
       "        vertical-align: middle;\n",
       "    }\n",
       "\n",
       "    .dataframe tbody tr th {\n",
       "        vertical-align: top;\n",
       "    }\n",
       "\n",
       "    .dataframe thead th {\n",
       "        text-align: right;\n",
       "    }\n",
       "</style>\n",
       "<table border=\"1\" class=\"dataframe\">\n",
       "  <thead>\n",
       "    <tr style=\"text-align: right;\">\n",
       "      <th></th>\n",
       "      <th>Job Id</th>\n",
       "      <th>Experience</th>\n",
       "      <th>Qualifications</th>\n",
       "      <th>Salary Range</th>\n",
       "      <th>location</th>\n",
       "      <th>Country</th>\n",
       "      <th>latitude</th>\n",
       "      <th>longitude</th>\n",
       "      <th>Work Type</th>\n",
       "      <th>Company Size</th>\n",
       "      <th>...</th>\n",
       "      <th>Contact</th>\n",
       "      <th>Job Title</th>\n",
       "      <th>Role</th>\n",
       "      <th>Job Portal</th>\n",
       "      <th>Job Description</th>\n",
       "      <th>Benefits</th>\n",
       "      <th>skills</th>\n",
       "      <th>Responsibilities</th>\n",
       "      <th>Company</th>\n",
       "      <th>Company Profile</th>\n",
       "    </tr>\n",
       "  </thead>\n",
       "  <tbody>\n",
       "    <tr>\n",
       "      <th>0</th>\n",
       "      <td>1089843540111562</td>\n",
       "      <td>5 to 15 Years</td>\n",
       "      <td>M.Tech</td>\n",
       "      <td>$59K-$99K</td>\n",
       "      <td>Douglas</td>\n",
       "      <td>Isle of Man</td>\n",
       "      <td>54.2361</td>\n",
       "      <td>-4.5481</td>\n",
       "      <td>Intern</td>\n",
       "      <td>26801</td>\n",
       "      <td>...</td>\n",
       "      <td>001-381-930-7517x737</td>\n",
       "      <td>Digital Marketing Specialist</td>\n",
       "      <td>Social Media Manager</td>\n",
       "      <td>Snagajob</td>\n",
       "      <td>Social Media Managers oversee an organizations...</td>\n",
       "      <td>{'Flexible Spending Accounts (FSAs), Relocatio...</td>\n",
       "      <td>Social media platforms (e.g., Facebook, Twitte...</td>\n",
       "      <td>Manage and grow social media accounts, create ...</td>\n",
       "      <td>Icahn Enterprises</td>\n",
       "      <td>{\"Sector\":\"Diversified\",\"Industry\":\"Diversifie...</td>\n",
       "    </tr>\n",
       "    <tr>\n",
       "      <th>1</th>\n",
       "      <td>398454096642776</td>\n",
       "      <td>2 to 12 Years</td>\n",
       "      <td>BCA</td>\n",
       "      <td>$56K-$116K</td>\n",
       "      <td>Ashgabat</td>\n",
       "      <td>Turkmenistan</td>\n",
       "      <td>38.9697</td>\n",
       "      <td>59.5563</td>\n",
       "      <td>Intern</td>\n",
       "      <td>100340</td>\n",
       "      <td>...</td>\n",
       "      <td>461-509-4216</td>\n",
       "      <td>Web Developer</td>\n",
       "      <td>Frontend Web Developer</td>\n",
       "      <td>Idealist</td>\n",
       "      <td>Frontend Web Developers design and implement u...</td>\n",
       "      <td>{'Health Insurance, Retirement Plans, Paid Tim...</td>\n",
       "      <td>HTML, CSS, JavaScript Frontend frameworks (e.g...</td>\n",
       "      <td>Design and code user interfaces for websites, ...</td>\n",
       "      <td>PNC Financial Services Group</td>\n",
       "      <td>{\"Sector\":\"Financial Services\",\"Industry\":\"Com...</td>\n",
       "    </tr>\n",
       "  </tbody>\n",
       "</table>\n",
       "<p>2 rows × 23 columns</p>\n",
       "</div>"
      ],
      "text/plain": [
       "             Job Id     Experience Qualifications Salary Range  location  \\\n",
       "0  1089843540111562  5 to 15 Years         M.Tech    $59K-$99K   Douglas   \n",
       "1   398454096642776  2 to 12 Years            BCA   $56K-$116K  Ashgabat   \n",
       "\n",
       "        Country  latitude  longitude Work Type  Company Size  ...  \\\n",
       "0   Isle of Man   54.2361    -4.5481    Intern         26801  ...   \n",
       "1  Turkmenistan   38.9697    59.5563    Intern        100340  ...   \n",
       "\n",
       "                Contact                     Job Title                    Role  \\\n",
       "0  001-381-930-7517x737  Digital Marketing Specialist    Social Media Manager   \n",
       "1          461-509-4216                 Web Developer  Frontend Web Developer   \n",
       "\n",
       "  Job Portal                                    Job Description  \\\n",
       "0   Snagajob  Social Media Managers oversee an organizations...   \n",
       "1   Idealist  Frontend Web Developers design and implement u...   \n",
       "\n",
       "                                            Benefits  \\\n",
       "0  {'Flexible Spending Accounts (FSAs), Relocatio...   \n",
       "1  {'Health Insurance, Retirement Plans, Paid Tim...   \n",
       "\n",
       "                                              skills  \\\n",
       "0  Social media platforms (e.g., Facebook, Twitte...   \n",
       "1  HTML, CSS, JavaScript Frontend frameworks (e.g...   \n",
       "\n",
       "                                    Responsibilities  \\\n",
       "0  Manage and grow social media accounts, create ...   \n",
       "1  Design and code user interfaces for websites, ...   \n",
       "\n",
       "                        Company  \\\n",
       "0             Icahn Enterprises   \n",
       "1  PNC Financial Services Group   \n",
       "\n",
       "                                     Company Profile  \n",
       "0  {\"Sector\":\"Diversified\",\"Industry\":\"Diversifie...  \n",
       "1  {\"Sector\":\"Financial Services\",\"Industry\":\"Com...  \n",
       "\n",
       "[2 rows x 23 columns]"
      ]
     },
     "execution_count": 5,
     "metadata": {},
     "output_type": "execute_result"
    }
   ],
   "source": [
    "df.head(2)"
   ]
  },
  {
   "cell_type": "code",
   "execution_count": 7,
   "metadata": {},
   "outputs": [
    {
     "data": {
      "text/plain": [
       "Index(['Job Id', 'Experience', 'Qualifications', 'Salary Range', 'location',\n",
       "       'Country', 'latitude', 'longitude', 'Work Type', 'Company Size',\n",
       "       'Job Posting Date', 'Preference', 'Contact Person', 'Contact',\n",
       "       'Job Title', 'Role', 'Job Portal', 'Job Description', 'Benefits',\n",
       "       'skills', 'Responsibilities', 'Company', 'Company Profile'],\n",
       "      dtype='object')"
      ]
     },
     "execution_count": 7,
     "metadata": {},
     "output_type": "execute_result"
    }
   ],
   "source": [
    "df.columns"
   ]
  },
  {
   "cell_type": "code",
   "execution_count": 8,
   "metadata": {},
   "outputs": [
    {
     "data": {
      "application/vnd.microsoft.datawrangler.viewer.v0+json": {
       "columns": [
        {
         "name": "index",
         "rawType": "object",
         "type": "string"
        },
        {
         "name": "Job Id",
         "rawType": "float64",
         "type": "float"
        },
        {
         "name": "latitude",
         "rawType": "float64",
         "type": "float"
        },
        {
         "name": "longitude",
         "rawType": "float64",
         "type": "float"
        },
        {
         "name": "Company Size",
         "rawType": "float64",
         "type": "float"
        }
       ],
       "conversionMethod": "pd.DataFrame",
       "ref": "3b110d20-0ebe-4000-b04e-c20a7399c95d",
       "rows": [
        [
         "count",
         "1615940.0",
         "1615940.0",
         "1615940.0",
         "1615940.0"
        ],
        [
         "mean",
         "1548935398924028.2",
         "19.37743123114719",
         "16.399258847299407",
         "73704.67154597324"
        ],
        [
         "std",
         "894672175243982.1",
         "23.556903812726798",
         "70.66762241394649",
         "35298.86391200279"
        ],
        [
         "min",
         "181794758338.0",
         "-40.9006",
         "-175.1982",
         "12646.0"
        ],
        [
         "25%",
         "774050846969771.0",
         "5.1521",
         "-15.3101",
         "43114.0"
        ],
        [
         "50%",
         "1547857662803636.0",
         "18.0708",
         "19.1451",
         "73633.0"
        ],
        [
         "75%",
         "2323729361800797.0",
         "39.0742",
         "47.5769",
         "104300.0"
        ],
        [
         "max",
         "3099618227279433.0",
         "71.7069",
         "178.065",
         "134834.0"
        ]
       ],
       "shape": {
        "columns": 4,
        "rows": 8
       }
      },
      "text/html": [
       "<div>\n",
       "<style scoped>\n",
       "    .dataframe tbody tr th:only-of-type {\n",
       "        vertical-align: middle;\n",
       "    }\n",
       "\n",
       "    .dataframe tbody tr th {\n",
       "        vertical-align: top;\n",
       "    }\n",
       "\n",
       "    .dataframe thead th {\n",
       "        text-align: right;\n",
       "    }\n",
       "</style>\n",
       "<table border=\"1\" class=\"dataframe\">\n",
       "  <thead>\n",
       "    <tr style=\"text-align: right;\">\n",
       "      <th></th>\n",
       "      <th>Job Id</th>\n",
       "      <th>latitude</th>\n",
       "      <th>longitude</th>\n",
       "      <th>Company Size</th>\n",
       "    </tr>\n",
       "  </thead>\n",
       "  <tbody>\n",
       "    <tr>\n",
       "      <th>count</th>\n",
       "      <td>1.615940e+06</td>\n",
       "      <td>1.615940e+06</td>\n",
       "      <td>1.615940e+06</td>\n",
       "      <td>1.615940e+06</td>\n",
       "    </tr>\n",
       "    <tr>\n",
       "      <th>mean</th>\n",
       "      <td>1.548935e+15</td>\n",
       "      <td>1.937743e+01</td>\n",
       "      <td>1.639926e+01</td>\n",
       "      <td>7.370467e+04</td>\n",
       "    </tr>\n",
       "    <tr>\n",
       "      <th>std</th>\n",
       "      <td>8.946722e+14</td>\n",
       "      <td>2.355690e+01</td>\n",
       "      <td>7.066762e+01</td>\n",
       "      <td>3.529886e+04</td>\n",
       "    </tr>\n",
       "    <tr>\n",
       "      <th>min</th>\n",
       "      <td>1.817948e+11</td>\n",
       "      <td>-4.090060e+01</td>\n",
       "      <td>-1.751982e+02</td>\n",
       "      <td>1.264600e+04</td>\n",
       "    </tr>\n",
       "    <tr>\n",
       "      <th>25%</th>\n",
       "      <td>7.740508e+14</td>\n",
       "      <td>5.152100e+00</td>\n",
       "      <td>-1.531010e+01</td>\n",
       "      <td>4.311400e+04</td>\n",
       "    </tr>\n",
       "    <tr>\n",
       "      <th>50%</th>\n",
       "      <td>1.547858e+15</td>\n",
       "      <td>1.807080e+01</td>\n",
       "      <td>1.914510e+01</td>\n",
       "      <td>7.363300e+04</td>\n",
       "    </tr>\n",
       "    <tr>\n",
       "      <th>75%</th>\n",
       "      <td>2.323729e+15</td>\n",
       "      <td>3.907420e+01</td>\n",
       "      <td>4.757690e+01</td>\n",
       "      <td>1.043000e+05</td>\n",
       "    </tr>\n",
       "    <tr>\n",
       "      <th>max</th>\n",
       "      <td>3.099618e+15</td>\n",
       "      <td>7.170690e+01</td>\n",
       "      <td>1.780650e+02</td>\n",
       "      <td>1.348340e+05</td>\n",
       "    </tr>\n",
       "  </tbody>\n",
       "</table>\n",
       "</div>"
      ],
      "text/plain": [
       "             Job Id      latitude     longitude  Company Size\n",
       "count  1.615940e+06  1.615940e+06  1.615940e+06  1.615940e+06\n",
       "mean   1.548935e+15  1.937743e+01  1.639926e+01  7.370467e+04\n",
       "std    8.946722e+14  2.355690e+01  7.066762e+01  3.529886e+04\n",
       "min    1.817948e+11 -4.090060e+01 -1.751982e+02  1.264600e+04\n",
       "25%    7.740508e+14  5.152100e+00 -1.531010e+01  4.311400e+04\n",
       "50%    1.547858e+15  1.807080e+01  1.914510e+01  7.363300e+04\n",
       "75%    2.323729e+15  3.907420e+01  4.757690e+01  1.043000e+05\n",
       "max    3.099618e+15  7.170690e+01  1.780650e+02  1.348340e+05"
      ]
     },
     "execution_count": 8,
     "metadata": {},
     "output_type": "execute_result"
    }
   ],
   "source": [
    "df.describe()"
   ]
  },
  {
   "cell_type": "code",
   "execution_count": 9,
   "metadata": {},
   "outputs": [
    {
     "name": "stdout",
     "output_type": "stream",
     "text": [
      "<class 'pandas.core.frame.DataFrame'>\n",
      "RangeIndex: 1615940 entries, 0 to 1615939\n",
      "Data columns (total 23 columns):\n",
      " #   Column            Non-Null Count    Dtype  \n",
      "---  ------            --------------    -----  \n",
      " 0   Job Id            1615940 non-null  int64  \n",
      " 1   Experience        1615940 non-null  object \n",
      " 2   Qualifications    1615940 non-null  object \n",
      " 3   Salary Range      1615940 non-null  object \n",
      " 4   location          1615940 non-null  object \n",
      " 5   Country           1615940 non-null  object \n",
      " 6   latitude          1615940 non-null  float64\n",
      " 7   longitude         1615940 non-null  float64\n",
      " 8   Work Type         1615940 non-null  object \n",
      " 9   Company Size      1615940 non-null  int64  \n",
      " 10  Job Posting Date  1615940 non-null  object \n",
      " 11  Preference        1615940 non-null  object \n",
      " 12  Contact Person    1615940 non-null  object \n",
      " 13  Contact           1615940 non-null  object \n",
      " 14  Job Title         1615940 non-null  object \n",
      " 15  Role              1615940 non-null  object \n",
      " 16  Job Portal        1615940 non-null  object \n",
      " 17  Job Description   1615940 non-null  object \n",
      " 18  Benefits          1615940 non-null  object \n",
      " 19  skills            1615940 non-null  object \n",
      " 20  Responsibilities  1615940 non-null  object \n",
      " 21  Company           1615940 non-null  object \n",
      " 22  Company Profile   1610462 non-null  object \n",
      "dtypes: float64(2), int64(2), object(19)\n",
      "memory usage: 283.6+ MB\n"
     ]
    }
   ],
   "source": [
    "df.info()"
   ]
  },
  {
   "cell_type": "code",
   "execution_count": 11,
   "metadata": {},
   "outputs": [
    {
     "data": {
      "text/plain": [
       "Index(['Job_Id', 'Experience', 'Qualifications', 'Salary_Range', 'location',\n",
       "       'Country', 'latitude', 'longitude', 'Work_Type', 'Company_Size',\n",
       "       'Job_Posting_Date', 'Preference', 'Contact_Person', 'Contact',\n",
       "       'Job_Title', 'Role', 'Job_Portal', 'Job_Description', 'Benefits',\n",
       "       'skills', 'Responsibilities', 'Company', 'Company_Profile'],\n",
       "      dtype='object')"
      ]
     },
     "execution_count": 11,
     "metadata": {},
     "output_type": "execute_result"
    }
   ],
   "source": [
    "df.columns = df.columns.str.replace(' ', '_')\n",
    "df.columns"
   ]
  },
  {
   "cell_type": "code",
   "execution_count": 12,
   "metadata": {},
   "outputs": [
    {
     "data": {
      "text/plain": [
       "0          {\"Sector\":\"Diversified\",\"Industry\":\"Diversifie...\n",
       "1          {\"Sector\":\"Financial Services\",\"Industry\":\"Com...\n",
       "2          {\"Sector\":\"Insurance\",\"Industry\":\"Insurance: P...\n",
       "3          {\"Sector\":\"Energy\",\"Industry\":\"Mining, Crude-O...\n",
       "4          {\"Sector\":\"Energy\",\"Industry\":\"Energy - Oil & ...\n",
       "                                 ...                        \n",
       "1615935    {\"Sector\":\"Food and Beverage/Confectionery\",\"I...\n",
       "1615936    {\"Sector\":\"Energy\",\"Industry\":\"Energy\",\"City\":...\n",
       "1615937    {\"Sector\":\"Technology\",\"Industry\":\"Semiconduct...\n",
       "1615938    {\"Sector\":\"Automotive\",\"Industry\":\"Automotive\"...\n",
       "1615939    {\"Sector\":\"Equipment Rental\",\"Industry\":\"Equip...\n",
       "Name: Company_Profile, Length: 1615940, dtype: object"
      ]
     },
     "execution_count": 12,
     "metadata": {},
     "output_type": "execute_result"
    }
   ],
   "source": [
    "df.Company_Profile"
   ]
  },
  {
   "cell_type": "code",
   "execution_count": 13,
   "metadata": {},
   "outputs": [
    {
     "data": {
      "text/plain": [
       "Job_Id                 0\n",
       "Experience             0\n",
       "Qualifications         0\n",
       "Salary_Range           0\n",
       "location               0\n",
       "Country                0\n",
       "latitude               0\n",
       "longitude              0\n",
       "Work_Type              0\n",
       "Company_Size           0\n",
       "Job_Posting_Date       0\n",
       "Preference             0\n",
       "Contact_Person         0\n",
       "Contact                0\n",
       "Job_Title              0\n",
       "Role                   0\n",
       "Job_Portal             0\n",
       "Job_Description        0\n",
       "Benefits               0\n",
       "skills                 0\n",
       "Responsibilities       0\n",
       "Company                0\n",
       "Company_Profile     5478\n",
       "dtype: int64"
      ]
     },
     "execution_count": 13,
     "metadata": {},
     "output_type": "execute_result"
    }
   ],
   "source": [
    "df.isnull().sum()"
   ]
  },
  {
   "cell_type": "code",
   "execution_count": 14,
   "metadata": {},
   "outputs": [
    {
     "data": {
      "text/plain": [
       "(1615940, 23)"
      ]
     },
     "execution_count": 14,
     "metadata": {},
     "output_type": "execute_result"
    }
   ],
   "source": [
    "df.shape"
   ]
  },
  {
   "cell_type": "code",
   "execution_count": 15,
   "metadata": {},
   "outputs": [],
   "source": [
    "df.dropna(inplace=True)"
   ]
  },
  {
   "cell_type": "code",
   "execution_count": 16,
   "metadata": {},
   "outputs": [
    {
     "data": {
      "text/plain": [
       "Job_Id              0\n",
       "Experience          0\n",
       "Qualifications      0\n",
       "Salary_Range        0\n",
       "location            0\n",
       "Country             0\n",
       "latitude            0\n",
       "longitude           0\n",
       "Work_Type           0\n",
       "Company_Size        0\n",
       "Job_Posting_Date    0\n",
       "Preference          0\n",
       "Contact_Person      0\n",
       "Contact             0\n",
       "Job_Title           0\n",
       "Role                0\n",
       "Job_Portal          0\n",
       "Job_Description     0\n",
       "Benefits            0\n",
       "skills              0\n",
       "Responsibilities    0\n",
       "Company             0\n",
       "Company_Profile     0\n",
       "dtype: int64"
      ]
     },
     "execution_count": 16,
     "metadata": {},
     "output_type": "execute_result"
    }
   ],
   "source": [
    "df.isnull().sum()"
   ]
  },
  {
   "cell_type": "code",
   "execution_count": 17,
   "metadata": {},
   "outputs": [],
   "source": [
    "df.drop_duplicates(inplace=True)"
   ]
  }
 ],
 "metadata": {
  "kernelspec": {
   "display_name": "base",
   "language": "python",
   "name": "python3"
  },
  "language_info": {
   "codemirror_mode": {
    "name": "ipython",
    "version": 3
   },
   "file_extension": ".py",
   "mimetype": "text/x-python",
   "name": "python",
   "nbconvert_exporter": "python",
   "pygments_lexer": "ipython3",
   "version": "3.12.7"
  }
 },
 "nbformat": 4,
 "nbformat_minor": 2
}
